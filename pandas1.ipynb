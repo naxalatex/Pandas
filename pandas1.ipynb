{
 "cells": [
  {
   "cell_type": "code",
   "execution_count": null,
   "id": "4fd1efbf",
   "metadata": {},
   "outputs": [
    {
     "name": "stdout",
     "output_type": "stream",
     "text": [
      "0     1\n",
      "1     2\n",
      "2     3\n",
      "3     4\n",
      "4     5\n",
      "5     6\n",
      "6     7\n",
      "7     8\n",
      "8     9\n",
      "9    10\n",
      "dtype: int64\n"
     ]
    }
   ],
   "source": [
    "import pandas as pd\n",
    "data = [1,2,3,4,5,6,7,8,9,10,]\n",
    "series = pd.Series(data)\n",
    "print(series)"
   ]
  },
  {
   "cell_type": "code",
   "execution_count": null,
   "id": "a62668b3",
   "metadata": {},
   "outputs": [
    {
     "name": "stdout",
     "output_type": "stream",
     "text": [
      "\n",
      "How many months in a year:\n",
      "1       January\n",
      "2      February\n",
      "3         March\n",
      "4         April\n",
      "5           May\n",
      "6          June\n",
      "7          July\n",
      "8        August\n",
      "9     September\n",
      "10      October\n",
      "11     November\n",
      "12     December\n",
      "dtype: object\n"
     ]
    }
   ],
   "source": [
    "Year={\n",
    "    1 : \"January\",\n",
    "    2 : \"February\",\n",
    "    3 : \"March\",\n",
    "    4 : \"April\",\n",
    "    5 : \"May\",\n",
    "    6 : \"June\",\n",
    "    7 : \"July\",\n",
    "    8 : \"August\",\n",
    "    9 : \"September\",\n",
    "    10: \"October\",\n",
    "    11: \"November\",\n",
    "    12: \"December\"\n",
    "    }\n",
    "\n",
    "months_series = pd.Series(Year)\n",
    "print(\"\\nHow many months in a year:\")\n",
    "print(months_series)"
   ]
  },
  {
   "cell_type": "markdown",
   "id": "f14baa79",
   "metadata": {},
   "source": [
    "https://media.giphy.com/media/v1.Y2lkPTc5MGI3NjExZmszaGFxOTZzdDhhYWowanpmMmtjYW1sM2RybzZpczBneXdybzZmdiZlcD12MV9naWZzX3NlYXJjaCZjdD1n/cnhpl4IeYgU7MCBdV2/giphy.gif"
   ]
  }
 ],
 "metadata": {
  "kernelspec": {
   "display_name": "wenv",
   "language": "python",
   "name": "python3"
  },
  "language_info": {
   "codemirror_mode": {
    "name": "ipython",
    "version": 3
   },
   "file_extension": ".py",
   "mimetype": "text/x-python",
   "name": "python",
   "nbconvert_exporter": "python",
   "pygments_lexer": "ipython3",
   "version": "3.13.7"
  }
 },
 "nbformat": 4,
 "nbformat_minor": 5
}
