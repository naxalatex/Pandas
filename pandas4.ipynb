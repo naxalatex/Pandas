{
 "cells": [
  {
   "cell_type": "code",
   "execution_count": 23,
   "id": "4ac520ce",
   "metadata": {},
   "outputs": [
    {
     "name": "stdout",
     "output_type": "stream",
     "text": [
      "        Name  Age Marks\n",
      "0        Ron   22    80\n",
      "1      Harry   22    90\n",
      "2      Draco   23    95\n",
      "3  Voldemort  600  None\n"
     ]
    }
   ],
   "source": [
    "import pandas as pd\n",
    "df = [\n",
    "    {'Name': 'Ron', 'Age':22, 'Marks': '80'},\n",
    "    {'Name': 'Harry', 'Age':22, 'Marks': '90'},\n",
    "    {'Name': 'Draco', 'Age':23, 'Marks': '95'},\n",
    "    {'Name': 'Voldemort', 'Age':600, 'Marks': None},\n",
    "]\n",
    "ds = pd.DataFrame(df)\n",
    "print(ds)"
   ]
  },
  {
   "cell_type": "code",
   "execution_count": 24,
   "id": "6f1eda9e",
   "metadata": {},
   "outputs": [
    {
     "name": "stdout",
     "output_type": "stream",
     "text": [
      "        Name  Age Marks Grade\n",
      "0        Ron   22    80     A\n",
      "1      Harry   22    90     B\n",
      "2      Draco   23    95     C\n",
      "3  Voldemort  600  None     D\n"
     ]
    }
   ],
   "source": [
    "ds['Grade']=['A','B','C','D']\n",
    "print(ds)\n"
   ]
  },
  {
   "cell_type": "code",
   "execution_count": 40,
   "id": "e1604d32",
   "metadata": {},
   "outputs": [
    {
     "name": "stdout",
     "output_type": "stream",
     "text": [
      "   Age Marks\n",
      "0   22    80\n"
     ]
    }
   ],
   "source": [
    "print(ds.iloc[0:1, 1:3])\n"
   ]
  },
  {
   "cell_type": "code",
   "execution_count": 41,
   "id": "87d93fdf",
   "metadata": {},
   "outputs": [
    {
     "name": "stdout",
     "output_type": "stream",
     "text": [
      "        Name  Age Marks Grade\n",
      "0        Ron   22    80     A\n",
      "1      Harry   22    90     B\n",
      "2      Draco   23    95     C\n",
      "3  Voldemort  600  None     D\n"
     ]
    }
   ],
   "source": [
    "ds.isnull().sum()\n",
    "print(ds)"
   ]
  },
  {
   "cell_type": "code",
   "execution_count": null,
   "id": "a2635fa7",
   "metadata": {},
   "outputs": [],
   "source": []
  }
 ],
 "metadata": {
  "kernelspec": {
   "display_name": "wenv",
   "language": "python",
   "name": "python3"
  },
  "language_info": {
   "codemirror_mode": {
    "name": "ipython",
    "version": 3
   },
   "file_extension": ".py",
   "mimetype": "text/x-python",
   "name": "python",
   "nbconvert_exporter": "python",
   "pygments_lexer": "ipython3",
   "version": "3.13.7"
  }
 },
 "nbformat": 4,
 "nbformat_minor": 5
}
