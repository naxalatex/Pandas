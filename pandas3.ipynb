{
 "cells": [
  {
   "cell_type": "code",
   "execution_count": 1,
   "id": "9d40967f",
   "metadata": {},
   "outputs": [
    {
     "name": "stdout",
     "output_type": "stream",
     "text": [
      "    Name  Age       city  marks\n",
      "0  Karan   21  Bangalore     95\n",
      "1  Meera   23       Pune     76\n",
      "2   Sonu   26  Hyderabad     89\n",
      "3  Anita   22    Kolkata     82\n"
     ]
    },
    {
     "name": "stderr",
     "output_type": "stream",
     "text": [
      "C:\\Users\\HP\\AppData\\Local\\Temp\\ipykernel_9908\\3092917811.py:12: FutureWarning: ChainedAssignmentError: behaviour will change in pandas 3.0!\n",
      "You are setting values through chained assignment. Currently this works in certain cases, but when using Copy-on-Write (which will become the default behaviour in pandas 3.0) this will never work to update the original DataFrame or Series, because the intermediate object on which we are setting values will behave as a copy.\n",
      "A typical example is when you are setting values in a column of a DataFrame, like:\n",
      "\n",
      "df[\"col\"][row_indexer] = value\n",
      "\n",
      "Use `df.loc[row_indexer, \"col\"] = values` instead, to perform the assignment in a single step and ensure this keeps updating the original `df`.\n",
      "\n",
      "See the caveats in the documentation: https://pandas.pydata.org/pandas-docs/stable/user_guide/indexing.html#returning-a-view-versus-a-copy\n",
      "\n",
      "  data['Name'][2]= 'Sonu'\n",
      "C:\\Users\\HP\\AppData\\Local\\Temp\\ipykernel_9908\\3092917811.py:12: SettingWithCopyWarning: \n",
      "A value is trying to be set on a copy of a slice from a DataFrame\n",
      "\n",
      "See the caveats in the documentation: https://pandas.pydata.org/pandas-docs/stable/user_guide/indexing.html#returning-a-view-versus-a-copy\n",
      "  data['Name'][2]= 'Sonu'\n"
     ]
    }
   ],
   "source": [
    "import pandas as pd\n",
    "# To  add  a new coloumn \n",
    "data = {\n",
    "    'Name':['Karan','Meera','David', 'Anita'],\n",
    "    'Age': [21, 23, 26,22],\n",
    "    'city':['Bangalore', 'Pune', 'Hyderabad', 'Kolkata']\n",
    "}\n",
    "data = pd.DataFrame(data)\n",
    "#To add new coloumn\n",
    "data['marks'] = [95,76,89,82]\n",
    "#Change the name in the 3rd row (index 2) to 'Sonu'\n",
    "data['Name'][2]= 'Sonu'\n",
    "data.loc[2,'Name']= 'Sonu'\n",
    "print(data)"
   ]
  },
  {
   "cell_type": "code",
   "execution_count": 2,
   "id": "aea5738b",
   "metadata": {},
   "outputs": [
    {
     "name": "stdout",
     "output_type": "stream",
     "text": [
      "15\n",
      "20\n",
      "2    15\n",
      "3    20\n",
      "4    25\n",
      "dtype: int64\n"
     ]
    }
   ],
   "source": [
    "df = [5,10,15,20,25]\n",
    "ds = pd.Series(df)\n",
    "print(ds.loc[2])\n",
    "print(ds.iloc[3])\n",
    "print(ds[ds>10])\n"
   ]
  },
  {
   "cell_type": "code",
   "execution_count": 3,
   "id": "877bdb97",
   "metadata": {},
   "outputs": [
    {
     "name": "stdout",
     "output_type": "stream",
     "text": [
      "   Name     City\n",
      "0  Riya    Delhi\n",
      "1  Amit   Mumbai\n",
      "2  Sara  Chennai\n",
      "3  John    Delhi\n",
      "   Name  Age\n",
      "0  Riya   22\n",
      "1  Amit   25\n",
      "2  Sara   24\n",
      "3  John   28\n",
      "   Name  Age     City\n",
      "1  Amit   25   Mumbai\n",
      "2  Sara   24  Chennai\n",
      "3  John   28    Delhi\n",
      "Empty DataFrame\n",
      "Columns: [Name, Age, City]\n",
      "Index: []\n",
      "   Name  Age     City  Mark\n",
      "0  Riya   22    Delhi    85\n",
      "1  Amit   25   Mumbai    92\n",
      "2  Sara   24  Chennai    78\n",
      "3  John   28    Delhi    88\n",
      "    Name  Age     City  Mark\n",
      "0   Riya   22    Delhi    85\n",
      "1   Amit   25   Mumbai    92\n",
      "2  Rahul   24  Chennai    78\n",
      "3   John   28    Delhi    88\n",
      "    Name  Age  Mark\n",
      "0   Riya   22    85\n",
      "1   Amit   25    92\n",
      "2  Rahul   24    78\n",
      "3   John   28    88\n",
      "    Name  Age  Score\n",
      "0   Riya   22     85\n",
      "1   Amit   25     92\n",
      "2  Rahul   24     78\n",
      "3   John   28     88\n"
     ]
    },
    {
     "name": "stderr",
     "output_type": "stream",
     "text": [
      "C:\\Users\\HP\\AppData\\Local\\Temp\\ipykernel_9908\\3782548987.py:13: FutureWarning: ChainedAssignmentError: behaviour will change in pandas 3.0!\n",
      "You are setting values through chained assignment. Currently this works in certain cases, but when using Copy-on-Write (which will become the default behaviour in pandas 3.0) this will never work to update the original DataFrame or Series, because the intermediate object on which we are setting values will behave as a copy.\n",
      "A typical example is when you are setting values in a column of a DataFrame, like:\n",
      "\n",
      "df[\"col\"][row_indexer] = value\n",
      "\n",
      "Use `df.loc[row_indexer, \"col\"] = values` instead, to perform the assignment in a single step and ensure this keeps updating the original `df`.\n",
      "\n",
      "See the caveats in the documentation: https://pandas.pydata.org/pandas-docs/stable/user_guide/indexing.html#returning-a-view-versus-a-copy\n",
      "\n",
      "  ds['Name'][2] = 'Rahul'\n",
      "C:\\Users\\HP\\AppData\\Local\\Temp\\ipykernel_9908\\3782548987.py:13: SettingWithCopyWarning: \n",
      "A value is trying to be set on a copy of a slice from a DataFrame\n",
      "\n",
      "See the caveats in the documentation: https://pandas.pydata.org/pandas-docs/stable/user_guide/indexing.html#returning-a-view-versus-a-copy\n",
      "  ds['Name'][2] = 'Rahul'\n"
     ]
    }
   ],
   "source": [
    "da = {\n",
    "    'Name': ['Riya', 'Amit', 'Sara', 'John'],\n",
    "    'Age': [22,25,24,28],\n",
    "    'City': ['Delhi', 'Mumbai', 'Chennai', 'Delhi']\n",
    "}\n",
    "ds = pd.DataFrame(da)\n",
    "print(ds[['Name','City']])\n",
    "print(ds[['Name', 'Age']])\n",
    "print(ds[ds['Age']>23])\n",
    "print(ds[(ds['City'] == 'Japan') & (ds['Age']>23)])\n",
    "ds['Mark']= [85,92,78,88]\n",
    "print(ds)\n",
    "ds['Name'][2] = 'Rahul'\n",
    "print(ds)\n",
    "ds.drop('City', axis= 1, inplace=True)\n",
    "print(ds)\n",
    "ds.rename(columns={'Mark': 'Score'}, inplace=1)\n",
    "print(ds)\n"
   ]
  },
  {
   "cell_type": "code",
   "execution_count": 4,
   "id": "d9f452c7",
   "metadata": {
    "vscode": {
     "languageId": "javascript"
    }
   },
   "outputs": [
    {
     "name": "stdout",
     "output_type": "stream",
     "text": [
      "    Name   Age\n",
      "0   Amit    25\n",
      "1   Riya  None\n",
      "2   Sara    22\n",
      "3   None    30\n"
     ]
    }
   ],
   "source": [
    "\n",
    "de ={\n",
    "    'Name': ['Amit', ' Riya', 'Sara', 'None'],\n",
    "    'Age': [25,'None', 22,30]\n",
    "}\n",
    "ds = pd.DataFrame(de)\n",
    "ds['Age'].value_counts()\n",
    "print(ds)\n"
   ]
  },
  {
   "cell_type": "code",
   "execution_count": 5,
   "id": "85f89725",
   "metadata": {},
   "outputs": [
    {
     "name": "stdout",
     "output_type": "stream",
     "text": [
      "   Name  Marks\n",
      "2  Sara     78\n",
      "0  Riya     85\n",
      "3  John     88\n",
      "1  Amit     92\n",
      "   Name  Marks\n",
      "1  Amit     92\n",
      "3  John     88\n",
      "0  Riya     85\n",
      "2  Sara     78\n"
     ]
    }
   ],
   "source": [
    "dx ={\n",
    "    'Name':['Riya','Amit', 'Sara', 'John'],\n",
    "    'Marks':[85,92,78,88]\n",
    "}\n",
    "dy = pd.DataFrame(dx)\n",
    "dy.sort_values('Marks', ascending=1, inplace=True)\n",
    "print(dy)\n",
    "dy.sort_values('Marks', ascending=0, inplace=True)\n",
    "print(dy)\n",
    "\n",
    "\n"
   ]
  },
  {
   "cell_type": "code",
   "execution_count": 6,
   "id": "9ebb8693",
   "metadata": {},
   "outputs": [
    {
     "name": "stdout",
     "output_type": "stream",
     "text": [
      "City\n",
      "Chennai    70.0\n",
      "Delhi      85.0\n",
      "Mumbai     90.0\n",
      "Name: Marks, dtype: float64\n",
      "City\n",
      "Chennai    70\n",
      "Delhi      90\n",
      "Mumbai     95\n",
      "Name: Marks, dtype: int64\n"
     ]
    }
   ],
   "source": [
    "dv = {\n",
    "    'City':['Delhi','Delhi','Chennai', 'Mumbai','Mumbai'],\n",
    "    'Marks':[80,90,70,85,95]\n",
    "    }\n",
    "dw = pd.DataFrame(dv)\n",
    "mean_per_city = dw.groupby('City')['Marks'].mean()\n",
    "print(mean_per_city)\n",
    "max_per_city = dw.groupby('City')['Marks'].max()\n",
    "print(max_per_city)\n",
    "dw.sort_values('Marks', ascending=1, inplace=True)\n"
   ]
  },
  {
   "cell_type": "code",
   "execution_count": 13,
   "id": "7e0d13ff",
   "metadata": {},
   "outputs": [
    {
     "name": "stdout",
     "output_type": "stream",
     "text": [
      "after adding new rows\n",
      "       City  Marks   Name   Age\n",
      "0   Chennai     70    NaN   NaN\n",
      "1     Delhi     80    NaN   NaN\n",
      "2    Mumbai     85    NaN   NaN\n",
      "3     Delhi     90    NaN   NaN\n",
      "4    Mumbai     95    NaN   NaN\n",
      "5       NaN     90  Kumar  20.0\n",
      "6       NaN     85  Rahul  26.0\n",
      "7       NaN     90  Kumar  20.0\n",
      "8       NaN     85  Rahul  26.0\n",
      "9       NaN     90  Kumar  20.0\n",
      "10      NaN     85  Rahul  26.0\n",
      "11      NaN     90  Kumar  20.0\n",
      "12      NaN     85  Rahul  26.0\n",
      "13   Kerala     90  Kumar  20.0\n",
      "14  Mizoram     85  Rahul  26.0\n",
      "15   Kerala     90  Kumar  20.0\n",
      "16  Mizoram     85  Rahul  26.0\n",
      "17   Kerala     90  Kumar  20.0\n",
      "18  Mizoram     85  Rahul  26.0 /n\n"
     ]
    }
   ],
   "source": [
    "new_rows = pd.DataFrame([\n",
    "    {'Name': 'Kumar', 'Age': 20, 'Marks': 90, 'City': 'Kerala'},\n",
    "    {'Name': 'Rahul', 'Age': 26, 'Marks': 85, 'City': 'Mizoram'}\n",
    "])\n",
    "dw = pd.concat([dw, new_rows], ignore_index=True)\n",
    "print(\"after adding new rows\")\n",
    "print(dw,\"/n\")"
   ]
  },
  {
   "cell_type": "code",
   "execution_count": 15,
   "id": "3ea8314c",
   "metadata": {},
   "outputs": [
    {
     "name": "stdout",
     "output_type": "stream",
     "text": [
      "Accessing name and marks form rows 0 to 2: \n",
      "  Name  Marks\n",
      "0  NaN     70\n",
      "1  NaN     80\n",
      "2  NaN     85\n",
      "3  NaN     90\n"
     ]
    }
   ],
   "source": [
    "print(\"Accessing name and marks form rows 0 to 2: \")\n",
    "print(dw.loc[0:3,['Name', 'Marks']])"
   ]
  },
  {
   "cell_type": "code",
   "execution_count": null,
   "id": "63ef2415",
   "metadata": {},
   "outputs": [],
   "source": []
  },
  {
   "cell_type": "code",
   "execution_count": 16,
   "id": "48ac4834",
   "metadata": {},
   "outputs": [
    {
     "name": "stdout",
     "output_type": "stream",
     "text": [
      "Mean age for each name((GroupBy):')\n",
      "Name\n",
      "Kumar    20.0\n",
      "Rahul    26.0\n",
      "Name: Age, dtype: float64\n"
     ]
    }
   ],
   "source": [
    "print(\"Mean age for each name((GroupBy):')\")\n",
    "group = dw.groupby('Name')\n",
    "print(group['Age'].mean())"
   ]
  },
  {
   "cell_type": "code",
   "execution_count": 24,
   "id": "23489998",
   "metadata": {},
   "outputs": [
    {
     "name": "stdout",
     "output_type": "stream",
     "text": [
      "Aggregate Functons on 'Age' coloumn\n",
      "Mean Age : 23.0\n",
      "Mean Age : 322.0\n",
      "Mean Age : 20.0\n",
      "Mean Age : 26.0\n",
      "Mean Age : 1.028071702528e+19\n"
     ]
    }
   ],
   "source": [
    "print(\"Aggregate Functons on 'Age' coloumn\")\n",
    "print(\"Mean Age :\", dw['Age'].mean())\n",
    "print(\"Mean Age :\", dw['Age'].sum())\n",
    "print(\"Mean Age :\", dw['Age'].min())\n",
    "print(\"Mean Age :\", dw['Age'].max())\n",
    "print(\"Mean Age :\", dw['Age'].product())\n"
   ]
  },
  {
   "cell_type": "code",
   "execution_count": null,
   "id": "f3dc05ba",
   "metadata": {},
   "outputs": [],
   "source": []
  }
 ],
 "metadata": {
  "kernelspec": {
   "display_name": "wenv",
   "language": "python",
   "name": "python3"
  },
  "language_info": {
   "codemirror_mode": {
    "name": "ipython",
    "version": 3
   },
   "file_extension": ".py",
   "mimetype": "text/x-python",
   "name": "python",
   "nbconvert_exporter": "python",
   "pygments_lexer": "ipython3",
   "version": "3.13.7"
  }
 },
 "nbformat": 4,
 "nbformat_minor": 5
}
