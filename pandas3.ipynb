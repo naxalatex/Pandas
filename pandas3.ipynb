{
 "cells": [
  {
   "cell_type": "code",
   "execution_count": 2,
   "id": "9d40967f",
   "metadata": {},
   "outputs": [
    {
     "name": "stdout",
     "output_type": "stream",
     "text": [
      "    Name  Age       city  marks\n",
      "0  Karan   21  Bangalore     95\n",
      "1  Meera   23       Pune     76\n",
      "2   Sonu   26  Hyderabad     89\n",
      "3  Anita   22    Kolkata     82\n"
     ]
    },
    {
     "name": "stderr",
     "output_type": "stream",
     "text": [
      "C:\\Users\\HP\\AppData\\Local\\Temp\\ipykernel_19372\\3092917811.py:12: FutureWarning: ChainedAssignmentError: behaviour will change in pandas 3.0!\n",
      "You are setting values through chained assignment. Currently this works in certain cases, but when using Copy-on-Write (which will become the default behaviour in pandas 3.0) this will never work to update the original DataFrame or Series, because the intermediate object on which we are setting values will behave as a copy.\n",
      "A typical example is when you are setting values in a column of a DataFrame, like:\n",
      "\n",
      "df[\"col\"][row_indexer] = value\n",
      "\n",
      "Use `df.loc[row_indexer, \"col\"] = values` instead, to perform the assignment in a single step and ensure this keeps updating the original `df`.\n",
      "\n",
      "See the caveats in the documentation: https://pandas.pydata.org/pandas-docs/stable/user_guide/indexing.html#returning-a-view-versus-a-copy\n",
      "\n",
      "  data['Name'][2]= 'Sonu'\n",
      "C:\\Users\\HP\\AppData\\Local\\Temp\\ipykernel_19372\\3092917811.py:12: SettingWithCopyWarning: \n",
      "A value is trying to be set on a copy of a slice from a DataFrame\n",
      "\n",
      "See the caveats in the documentation: https://pandas.pydata.org/pandas-docs/stable/user_guide/indexing.html#returning-a-view-versus-a-copy\n",
      "  data['Name'][2]= 'Sonu'\n"
     ]
    }
   ],
   "source": [
    "import pandas as pd\n",
    "# To  add  a new coloumn \n",
    "data = {\n",
    "    'Name':['Karan','Meera','David', 'Anita'],\n",
    "    'Age': [21, 23, 26,22],\n",
    "    'city':['Bangalore', 'Pune', 'Hyderabad', 'Kolkata']\n",
    "}\n",
    "data = pd.DataFrame(data)\n",
    "#To add new coloumn\n",
    "data['marks'] = [95,76,89,82]\n",
    "#Change the name in the 3rd row (index 2) to 'Sonu'\n",
    "data['Name'][2]= 'Sonu'\n",
    "data.loc[2,'Name']= 'Sonu'\n",
    "print(data)"
   ]
  },
  {
   "cell_type": "code",
   "execution_count": 3,
   "id": "aea5738b",
   "metadata": {},
   "outputs": [
    {
     "name": "stdout",
     "output_type": "stream",
     "text": [
      "15\n",
      "20\n",
      "2    15\n",
      "3    20\n",
      "4    25\n",
      "dtype: int64\n"
     ]
    }
   ],
   "source": [
    "df = [5,10,15,20,25]\n",
    "ds = pd.Series(df)\n",
    "print(ds.loc[2])\n",
    "print(ds.iloc[3])\n",
    "print(ds[ds>10])\n"
   ]
  },
  {
   "cell_type": "code",
   "execution_count": 4,
   "id": "877bdb97",
   "metadata": {},
   "outputs": [
    {
     "name": "stdout",
     "output_type": "stream",
     "text": [
      "   Name     City\n",
      "0  Riya    Delhi\n",
      "1  Amit   Mumbai\n",
      "2  Sara  Chennai\n",
      "3  John    Delhi\n",
      "   Name  Age\n",
      "0  Riya   22\n",
      "1  Amit   25\n",
      "2  Sara   24\n",
      "3  John   28\n",
      "   Name  Age     City\n",
      "1  Amit   25   Mumbai\n",
      "2  Sara   24  Chennai\n",
      "3  John   28    Delhi\n",
      "Empty DataFrame\n",
      "Columns: [Name, Age, City]\n",
      "Index: []\n",
      "   Name  Age     City  Mark\n",
      "0  Riya   22    Delhi    85\n",
      "1  Amit   25   Mumbai    92\n",
      "2  Sara   24  Chennai    78\n",
      "3  John   28    Delhi    88\n",
      "    Name  Age     City  Mark\n",
      "0   Riya   22    Delhi    85\n",
      "1   Amit   25   Mumbai    92\n",
      "2  Rahul   24  Chennai    78\n",
      "3   John   28    Delhi    88\n",
      "    Name  Age  Mark\n",
      "0   Riya   22    85\n",
      "1   Amit   25    92\n",
      "2  Rahul   24    78\n",
      "3   John   28    88\n",
      "    Name  Age  Score\n",
      "0   Riya   22     85\n",
      "1   Amit   25     92\n",
      "2  Rahul   24     78\n",
      "3   John   28     88\n"
     ]
    },
    {
     "name": "stderr",
     "output_type": "stream",
     "text": [
      "C:\\Users\\HP\\AppData\\Local\\Temp\\ipykernel_19372\\3782548987.py:13: FutureWarning: ChainedAssignmentError: behaviour will change in pandas 3.0!\n",
      "You are setting values through chained assignment. Currently this works in certain cases, but when using Copy-on-Write (which will become the default behaviour in pandas 3.0) this will never work to update the original DataFrame or Series, because the intermediate object on which we are setting values will behave as a copy.\n",
      "A typical example is when you are setting values in a column of a DataFrame, like:\n",
      "\n",
      "df[\"col\"][row_indexer] = value\n",
      "\n",
      "Use `df.loc[row_indexer, \"col\"] = values` instead, to perform the assignment in a single step and ensure this keeps updating the original `df`.\n",
      "\n",
      "See the caveats in the documentation: https://pandas.pydata.org/pandas-docs/stable/user_guide/indexing.html#returning-a-view-versus-a-copy\n",
      "\n",
      "  ds['Name'][2] = 'Rahul'\n",
      "C:\\Users\\HP\\AppData\\Local\\Temp\\ipykernel_19372\\3782548987.py:13: SettingWithCopyWarning: \n",
      "A value is trying to be set on a copy of a slice from a DataFrame\n",
      "\n",
      "See the caveats in the documentation: https://pandas.pydata.org/pandas-docs/stable/user_guide/indexing.html#returning-a-view-versus-a-copy\n",
      "  ds['Name'][2] = 'Rahul'\n"
     ]
    }
   ],
   "source": [
    "da = {\n",
    "    'Name': ['Riya', 'Amit', 'Sara', 'John'],\n",
    "    'Age': [22,25,24,28],\n",
    "    'City': ['Delhi', 'Mumbai', 'Chennai', 'Delhi']\n",
    "}\n",
    "ds = pd.DataFrame(da)\n",
    "print(ds[['Name','City']])\n",
    "print(ds[['Name', 'Age']])\n",
    "print(ds[ds['Age']>23])\n",
    "print(ds[(ds['City'] == 'Japan') & (ds['Age']>23)])\n",
    "ds['Mark']= [85,92,78,88]\n",
    "print(ds)\n",
    "ds['Name'][2] = 'Rahul'\n",
    "print(ds)\n",
    "ds.drop('City', axis= 1, inplace=True)\n",
    "print(ds)\n",
    "ds.rename(columns={'Mark': 'Score'}, inplace=1)\n",
    "print(ds)\n"
   ]
  },
  {
   "cell_type": "code",
   "execution_count": null,
   "id": "d9f452c7",
   "metadata": {
    "vscode": {
     "languageId": "javascript"
    }
   },
   "outputs": [
    {
     "name": "stdout",
     "output_type": "stream",
     "text": [
      "    Name   Age\n",
      "0   Amit    25\n",
      "1   Riya  None\n",
      "2   Sara    22\n",
      "3   None    30\n"
     ]
    },
    {
     "ename": "KeyError",
     "evalue": "'Mark'",
     "output_type": "error",
     "traceback": [
      "\u001b[31m---------------------------------------------------------------------------\u001b[39m",
      "\u001b[31mKeyError\u001b[39m                                  Traceback (most recent call last)",
      "\u001b[32m~\\AppData\\Local\\Temp\\ipykernel_19372\\1692291782.py\u001b[39m in \u001b[36m?\u001b[39m\u001b[34m()\u001b[39m\n\u001b[32m      4\u001b[39m }\n\u001b[32m      5\u001b[39m ds = pd.DataFrame(de)\n\u001b[32m      6\u001b[39m ds[\u001b[33m'Age'\u001b[39m].value_counts()\n\u001b[32m      7\u001b[39m print(ds)\n\u001b[32m----> \u001b[39m\u001b[32m8\u001b[39m ds.sort_values(\u001b[33m'Mark'\u001b[39m, ascending=\u001b[38;5;28;01mTrue\u001b[39;00m)\n\u001b[32m      9\u001b[39m print(ds)\n",
      "\u001b[32md:\\Pandas\\wenv\\Lib\\site-packages\\pandas\\core\\frame.py\u001b[39m in \u001b[36m?\u001b[39m\u001b[34m(self, by, axis, ascending, inplace, kind, na_position, ignore_index, key)\u001b[39m\n\u001b[32m   7207\u001b[39m             )\n\u001b[32m   7208\u001b[39m         \u001b[38;5;28;01melif\u001b[39;00m len(by):\n\u001b[32m   7209\u001b[39m             \u001b[38;5;66;03m# len(by) == 1\u001b[39;00m\n\u001b[32m   7210\u001b[39m \n\u001b[32m-> \u001b[39m\u001b[32m7211\u001b[39m             k = self._get_label_or_level_values(by[\u001b[32m0\u001b[39m], axis=axis)\n\u001b[32m   7212\u001b[39m \n\u001b[32m   7213\u001b[39m             \u001b[38;5;66;03m# need to rewrap column in Series to apply key function\u001b[39;00m\n\u001b[32m   7214\u001b[39m             \u001b[38;5;28;01mif\u001b[39;00m key \u001b[38;5;28;01mis\u001b[39;00m \u001b[38;5;28;01mnot\u001b[39;00m \u001b[38;5;28;01mNone\u001b[39;00m:\n",
      "\u001b[32md:\\Pandas\\wenv\\Lib\\site-packages\\pandas\\core\\generic.py\u001b[39m in \u001b[36m?\u001b[39m\u001b[34m(self, key, axis)\u001b[39m\n\u001b[32m   1910\u001b[39m             values = self.xs(key, axis=other_axes[\u001b[32m0\u001b[39m])._values\n\u001b[32m   1911\u001b[39m         \u001b[38;5;28;01melif\u001b[39;00m self._is_level_reference(key, axis=axis):\n\u001b[32m   1912\u001b[39m             values = self.axes[axis].get_level_values(key)._values\n\u001b[32m   1913\u001b[39m         \u001b[38;5;28;01melse\u001b[39;00m:\n\u001b[32m-> \u001b[39m\u001b[32m1914\u001b[39m             \u001b[38;5;28;01mraise\u001b[39;00m KeyError(key)\n\u001b[32m   1915\u001b[39m \n\u001b[32m   1916\u001b[39m         \u001b[38;5;66;03m# Check for duplicates\u001b[39;00m\n\u001b[32m   1917\u001b[39m         \u001b[38;5;28;01mif\u001b[39;00m values.ndim > \u001b[32m1\u001b[39m:\n",
      "\u001b[31mKeyError\u001b[39m: 'Mark'"
     ]
    }
   ],
   "source": [
    "\n",
    "de ={\n",
    "    'Name': ['Amit', ' Riya', 'Sara', 'None'],\n",
    "    'Age': [25,'None', 22,30]\n",
    "}\n",
    "ds = pd.DataFrame(de)\n",
    "ds['Age'].value_counts()\n",
    "print(ds)\n"
   ]
  },
  {
   "cell_type": "code",
   "execution_count": 25,
   "id": "85f89725",
   "metadata": {},
   "outputs": [
    {
     "name": "stdout",
     "output_type": "stream",
     "text": [
      "   Name  Marks\n",
      "2  Sara     78\n",
      "0  Riya     85\n",
      "3  John     88\n",
      "1  Amit     92\n",
      "   Name  Marks\n",
      "1  Amit     92\n",
      "3  John     88\n",
      "0  Riya     85\n",
      "2  Sara     78\n"
     ]
    }
   ],
   "source": [
    "dx ={\n",
    "    'Name':['Riya','Amit', 'Sara', 'John'],\n",
    "    'Marks':[85,92,78,88]\n",
    "}\n",
    "dy = pd.DataFrame(dx)\n",
    "dy.sort_values('Marks', ascending=1, inplace=True)\n",
    "print(dy)\n",
    "dy.sort_values('Marks', ascending=0, inplace=True)\n",
    "print(dy)\n",
    "\n",
    "\n"
   ]
  },
  {
   "cell_type": "code",
   "execution_count": 66,
   "id": "9ebb8693",
   "metadata": {},
   "outputs": [
    {
     "name": "stdout",
     "output_type": "stream",
     "text": [
      "City\n",
      "Chennai    70.0\n",
      "Delhi      85.0\n",
      "Mumbai     90.0\n",
      "Name: Marks, dtype: float64\n",
      "City\n",
      "Chennai    70\n",
      "Delhi      90\n",
      "Mumbai     95\n",
      "Name: Marks, dtype: int64\n"
     ]
    }
   ],
   "source": [
    "dv = {\n",
    "    'City':['Delhi','Delhi','Chennai', 'Mumbai','Mumbai'],\n",
    "    'Marks':[80,90,70,85,95]\n",
    "    }\n",
    "dw = pd.DataFrame(dv)\n",
    "mean_per_city = dw.groupby('City')['Marks'].mean()\n",
    "print(mean_per_city)\n",
    "max_per_city = dw.groupby('City')['Marks'].max()\n",
    "print(max_per_city)\n",
    "dw.sort_values('Marks', ascending=1, inplace=True)\n"
   ]
  },
  {
   "cell_type": "code",
   "execution_count": null,
   "id": "7e0d13ff",
   "metadata": {},
   "outputs": [],
   "source": []
  }
 ],
 "metadata": {
  "kernelspec": {
   "display_name": "wenv",
   "language": "python",
   "name": "python3"
  },
  "language_info": {
   "codemirror_mode": {
    "name": "ipython",
    "version": 3
   },
   "file_extension": ".py",
   "mimetype": "text/x-python",
   "name": "python",
   "nbconvert_exporter": "python",
   "pygments_lexer": "ipython3",
   "version": "3.13.7"
  }
 },
 "nbformat": 4,
 "nbformat_minor": 5
}
